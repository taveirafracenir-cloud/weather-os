# monitor.ipynb

# --- CÉLULA 1: Importação de pacotes ---
import psutil
import requests
import pandas as pd
import matplotlib.pyplot as plt
from IPython.display import clear_output, display
import time

# --- CÉLULA 2: Configurações de API de previsão do tempo ---
API_KEY = "SUA_CHAVE_OPENWEATHER"  # Troque pela sua chave
CIDADE = "São Paulo,BR"
URL = f"http://api.openweathermap.org/data/2.5/weather?q={CIDADE}&appid={API_KEY}&units=metric"

# --- CÉLULA 3: Funções de monitoramento do servidor ---
def coletar_status_servidor():
    status = {
        "CPU (%)": psutil.cpu_percent(interval=1),
        "Memória (%)": psutil.virtual_memory().percent,
        "Disco (%)": psutil.disk_usage('/').percent,
        "Rede (sent MB)": psutil.net_io_counters().bytes_sent / (1024*1024),
        "Rede (recv MB)": psutil.net_io_counters().bytes_recv / (1024*1024)
    }
    # Fonte de energia, se disponível
    try:
        bateria = psutil.sensors_battery()
        if bateria:
            status["Bateria (%)"] = bateria.percent
            status["Conectado à energia"] = bateria.power_plugged
        else:
            status["Bateria (%)"] = "N/A"
            status["Conectado à energia"] = "N/A"
    except:
        status["Bateria (%)"] = "Erro"
        status["Conectado à energia"] = "Erro"
    return status

# --- CÉLULA 4: Função para obter previsão do tempo ---
def pegar_previsao_tempo():
    try:
        resposta = requests.get(URL)
        dados = resposta.json()
        tempo = {
            "Temperatura (°C)": dados['main']['temp'],
            "Umidade (%)": dados['main']['humidity'],
            "Condição": dados['weather'][0]['description'].title()
        }
        return tempo
    except:
        return {"Temperatura (°C)": "Erro", "Umidade (%)": "Erro", "Condição": "Erro"}

# --- CÉLULA 5: Loop principal de monitoramento ---
historico = []

try:
    while True:
        clear_output(wait=True)
        
        status = coletar_status_servidor()
        tempo = pegar_previsao_tempo()
        
        # Mostrar status do servidor
        print("=== STATUS DO SERVIDOR ===")
        for chave, valor in status.items():
            print(f"{chave}: {valor}")
        
        # Mostrar previsão do tempo
        print("\n=== PREVISÃO DO TEMPO ===")
        for chave, valor in tempo.items():
            print(f"{chave}: {valor}")
        
        # Salvar histórico
        registro = {**status, **tempo, "Timestamp": pd.Timestamp.now()}
        historico.append(registro)
        
        # Plot simples
        df = pd.DataFrame(historico)
        if len(df) > 1:
            df[['CPU (%)','Memória (%)']].plot(title="Uso do Servidor", figsize=(10,4))
            plt.show()
        
        # Alertas simples
        if status["CPU (%)"] > 80:
            print("⚠️ CPU acima de 80%!")
        if status["Memória (%)"] > 80:
            print("⚠️ Memória acima de 80%!")
        
        time.sleep(5)  # Atualiza a cada 5 segundos

except KeyboardInterrupt:
    print("Monitoramento encerrado pelo usuário.")
